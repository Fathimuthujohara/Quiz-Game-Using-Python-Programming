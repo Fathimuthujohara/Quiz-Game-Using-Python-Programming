{
 "cells": [
  {
   "cell_type": "code",
   "execution_count": 5,
   "id": "24eec524-068f-4311-a18c-c43195a252ec",
   "metadata": {},
   "outputs": [
    {
     "name": "stdin",
     "output_type": "stream",
     "text": [
      "Enter your name:  fmj\n"
     ]
    },
    {
     "name": "stdout",
     "output_type": "stream",
     "text": [
      "Hello, fmj! Let's get started with the quiz.\n",
      "\n",
      "What is the capital of France?\n",
      "A. Berlin\n",
      "B. Madrid\n",
      "C. Paris\n",
      "D. Rome\n"
     ]
    },
    {
     "name": "stdin",
     "output_type": "stream",
     "text": [
      "Enter your answer (A, B, C, or D) or 'H' for a hint:  h\n"
     ]
    },
    {
     "name": "stdout",
     "output_type": "stream",
     "text": [
      "Hint: It's known as the city of love.\n"
     ]
    },
    {
     "name": "stdin",
     "output_type": "stream",
     "text": [
      "Enter your answer (A, B, C, or D):  c\n"
     ]
    },
    {
     "name": "stdout",
     "output_type": "stream",
     "text": [
      "Correct! You answered in 18.01 seconds.\n",
      "\n",
      "Which planet is known as the Red Planet?\n",
      "A. Earth\n",
      "B. Mars\n",
      "C. Jupiter\n",
      "D. Saturn\n"
     ]
    },
    {
     "name": "stdin",
     "output_type": "stream",
     "text": [
      "Enter your answer (A, B, C, or D) or 'H' for a hint:  b\n"
     ]
    },
    {
     "name": "stdout",
     "output_type": "stream",
     "text": [
      "Correct! You answered in 9.29 seconds.\n",
      "\n",
      "What is the largest ocean on Earth?\n",
      "A. Atlantic Ocean\n",
      "B. Indian Ocean\n",
      "C. Arctic Ocean\n",
      "D. Pacific Ocean\n"
     ]
    },
    {
     "name": "stdin",
     "output_type": "stream",
     "text": [
      "Enter your answer (A, B, C, or D) or 'H' for a hint:  d\n"
     ]
    },
    {
     "name": "stdout",
     "output_type": "stream",
     "text": [
      "Correct! You answered in 2.64 seconds.\n",
      "\n",
      "Who wrote 'To Kill a Mockingbird'?\n",
      "A. Harper Lee\n",
      "B. Mark Twain\n",
      "C. J.K. Rowling\n",
      "D. Jane Austen\n"
     ]
    },
    {
     "name": "stdin",
     "output_type": "stream",
     "text": [
      "Enter your answer (A, B, C, or D) or 'H' for a hint:  a\n"
     ]
    },
    {
     "name": "stdout",
     "output_type": "stream",
     "text": [
      "Correct! You answered in 3.66 seconds.\n",
      "\n",
      "What is the powerhouse of the cell?\n",
      "A. Nucleus\n",
      "B. Ribosome\n",
      "C. Mitochondria\n",
      "D. Endoplasmic Reticulum\n"
     ]
    },
    {
     "name": "stdin",
     "output_type": "stream",
     "text": [
      "Enter your answer (A, B, C, or D) or 'H' for a hint:  h\n"
     ]
    },
    {
     "name": "stdout",
     "output_type": "stream",
     "text": [
      "Hint: It starts with 'Mito'.\n"
     ]
    },
    {
     "name": "stdin",
     "output_type": "stream",
     "text": [
      "Enter your answer (A, B, C, or D):  c\n"
     ]
    },
    {
     "name": "stdout",
     "output_type": "stream",
     "text": [
      "Correct! You answered in 6.93 seconds.\n",
      "\n",
      "What is the boiling point of water at sea level?\n",
      "A. 90°C\n",
      "B. 100°C\n",
      "C. 110°C\n",
      "D. 120°C\n"
     ]
    },
    {
     "name": "stdin",
     "output_type": "stream",
     "text": [
      "Enter your answer (A, B, C, or D) or 'H' for a hint:  a\n"
     ]
    },
    {
     "name": "stdout",
     "output_type": "stream",
     "text": [
      "Incorrect. The correct answer was B.\n",
      "Explanation: The boiling point of water at sea level is 100°C (212°F).\n",
      "\n",
      "Quiz over! Your final score is 5 out of 6.\n",
      "Good effort! Keep learning and improving!\n",
      "\n",
      "Leaderboard:\n",
      "1. fmj - 5\n"
     ]
    },
    {
     "name": "stdin",
     "output_type": "stream",
     "text": [
      "Do you want to retry the quiz? (Y/N):  n\n"
     ]
    }
   ],
   "source": [
    "import time\n",
    "\n",
    "# Define the questions, options, correct answers, and hints\n",
    "quiz_questions = [\n",
    "    {\n",
    "        \"question\": \"What is the capital of France?\",\n",
    "        \"options\": [\"A. Berlin\", \"B. Madrid\", \"C. Paris\", \"D. Rome\"],\n",
    "        \"answer\": \"C\",\n",
    "        \"explanation\": \"Paris is the capital of France, known for its art, fashion, and culture.\",\n",
    "        \"hint\": \"It's known as the city of love.\"\n",
    "    },\n",
    "    {\n",
    "        \"question\": \"Which planet is known as the Red Planet?\",\n",
    "        \"options\": [\"A. Earth\", \"B. Mars\", \"C. Jupiter\", \"D. Saturn\"],\n",
    "        \"answer\": \"B\",\n",
    "        \"explanation\": \"Mars is often called the Red Planet due to its reddish appearance caused by iron oxide on its surface.\",\n",
    "        \"hint\": \"It's named after the Roman god of war.\"\n",
    "    },\n",
    "    {\n",
    "        \"question\": \"What is the largest ocean on Earth?\",\n",
    "        \"options\": [\"A. Atlantic Ocean\", \"B. Indian Ocean\", \"C. Arctic Ocean\", \"D. Pacific Ocean\"],\n",
    "        \"answer\": \"D\",\n",
    "        \"explanation\": \"The Pacific Ocean is the largest and deepest ocean on Earth, covering more than 63 million square miles.\",\n",
    "        \"hint\": \"It's larger than all the Earth's land area combined.\"\n",
    "    },\n",
    "    {\n",
    "        \"question\": \"Who wrote 'To Kill a Mockingbird'?\",\n",
    "        \"options\": [\"A. Harper Lee\", \"B. Mark Twain\", \"C. J.K. Rowling\", \"D. Jane Austen\"],\n",
    "        \"answer\": \"A\",\n",
    "        \"explanation\": \"Harper Lee wrote 'To Kill a Mockingbird', a novel published in 1960 that deals with serious issues like racial inequality.\",\n",
    "        \"hint\": \"The author's first name is Harper.\"\n",
    "    },\n",
    "    {\n",
    "        \"question\": \"What is the powerhouse of the cell?\",\n",
    "        \"options\": [\"A. Nucleus\", \"B. Ribosome\", \"C. Mitochondria\", \"D. Endoplasmic Reticulum\"],\n",
    "        \"answer\": \"C\",\n",
    "        \"explanation\": \"Mitochondria are known as the powerhouse of the cell because they produce the energy currency of the cell, ATP.\",\n",
    "        \"hint\": \"It starts with 'Mito'.\"\n",
    "    },\n",
    "    {\n",
    "        \"question\": \"What is the boiling point of water at sea level?\",\n",
    "        \"options\": [\"A. 90°C\", \"B. 100°C\", \"C. 110°C\", \"D. 120°C\"],\n",
    "        \"answer\": \"B\",\n",
    "        \"explanation\": \"The boiling point of water at sea level is 100°C (212°F).\",\n",
    "        \"hint\": \"It's exactly 100 degrees Celsius.\"\n",
    "    }\n",
    "]\n",
    "\n",
    "# Function to validate user input\n",
    "def get_valid_input(prompt, valid_options):\n",
    "    user_input = input(prompt).upper()\n",
    "    while user_input not in valid_options:\n",
    "        print(\"Invalid input. Please enter a valid option.\")\n",
    "        user_input = input(prompt).upper()\n",
    "    return user_input\n",
    "\n",
    "# Function to ask a question and return if the answer was correct\n",
    "def ask_question(question_data):\n",
    "    print(question_data[\"question\"])\n",
    "    for option in question_data[\"options\"]:\n",
    "        print(option)\n",
    "    \n",
    "    start_time = time.time()\n",
    "    user_answer = get_valid_input(\"Enter your answer (A, B, C, or D) or 'H' for a hint: \", [\"A\", \"B\", \"C\", \"D\", \"H\"])\n",
    "    \n",
    "    if user_answer == \"H\":\n",
    "        print(f\"Hint: {question_data['hint']}\")\n",
    "        user_answer = get_valid_input(\"Enter your answer (A, B, C, or D): \", [\"A\", \"B\", \"C\", \"D\"])\n",
    "    \n",
    "    elapsed_time = time.time() - start_time\n",
    "    \n",
    "    if user_answer == question_data[\"answer\"]:\n",
    "        print(f\"Correct! You answered in {elapsed_time:.2f} seconds.\\n\")\n",
    "        return True\n",
    "    else:\n",
    "        print(f\"Incorrect. The correct answer was {question_data['answer']}.\")\n",
    "        print(f\"Explanation: {question_data['explanation']}\\n\")\n",
    "        return False\n",
    "\n",
    "# Function to run the quiz\n",
    "def run_quiz(questions):\n",
    "    score = 0\n",
    "    for question in questions:\n",
    "        if ask_question(question):\n",
    "            score += 1\n",
    "    print(f\"Quiz over! Your final score is {score} out of {len(questions)}.\")\n",
    "    \n",
    "    # Feedback based on the score\n",
    "    if score == 6:\n",
    "        print(\"Perfect score! Well done!\")\n",
    "    elif score < 3:\n",
    "        print(\"You need to improve. Keep practicing!\")\n",
    "    else:\n",
    "        print(\"Good effort! Keep learning and improving!\")\n",
    "\n",
    "    return score\n",
    "\n",
    "# Function to get user name and start the quiz\n",
    "def start_quiz():\n",
    "    user_name = input(\"Enter your name: \")\n",
    "    print(f\"Hello, {user_name}! Let's get started with the quiz.\\n\")\n",
    "    return user_name\n",
    "\n",
    "# Function to retry the quiz\n",
    "def retry_quiz():\n",
    "    retry = get_valid_input(\"Do you want to retry the quiz? (Y/N): \", [\"Y\", \"N\"])\n",
    "    return retry == \"Y\"\n",
    "\n",
    "# Function to update and display the leaderboard\n",
    "def update_leaderboard(user_name, score, leaderboard):\n",
    "    leaderboard.append((user_name, score))\n",
    "    leaderboard.sort(key=lambda x: x[1], reverse=True)\n",
    "    print(\"\\nLeaderboard:\")\n",
    "    for i, (name, score) in enumerate(leaderboard[:5], 1):\n",
    "        print(f\"{i}. {name} - {score}\")\n",
    "\n",
    "# Run the quiz\n",
    "if __name__ == \"__main__\":\n",
    "    leaderboard = []\n",
    "    while True:\n",
    "        user_name = start_quiz()\n",
    "        score = run_quiz(quiz_questions)\n",
    "        update_leaderboard(user_name, score, leaderboard)\n",
    "        if not retry_quiz():\n",
    "            break\n"
   ]
  },
  {
   "cell_type": "code",
   "execution_count": null,
   "id": "6936ea88-ff04-4b13-b501-595bdbae7e79",
   "metadata": {},
   "outputs": [],
   "source": []
  },
  {
   "cell_type": "code",
   "execution_count": null,
   "id": "426022d5-70e8-4283-83ab-252b53bcf94c",
   "metadata": {},
   "outputs": [],
   "source": []
  }
 ],
 "metadata": {
  "kernelspec": {
   "display_name": "Python 3 (ipykernel)",
   "language": "python",
   "name": "python3"
  },
  "language_info": {
   "codemirror_mode": {
    "name": "ipython",
    "version": 3
   },
   "file_extension": ".py",
   "mimetype": "text/x-python",
   "name": "python",
   "nbconvert_exporter": "python",
   "pygments_lexer": "ipython3",
   "version": "3.11.7"
  }
 },
 "nbformat": 4,
 "nbformat_minor": 5
}
